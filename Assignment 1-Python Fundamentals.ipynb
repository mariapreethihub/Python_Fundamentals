{
 "cells": [
  {
   "cell_type": "markdown",
   "id": "398f1252-d9a2-4e7e-9ae2-a1ad9ff60761",
   "metadata": {},
   "source": [
    "# Python Fundamentals"
   ]
  },
  {
   "cell_type": "markdown",
   "id": "a002266b-e25c-4b85-94fa-1c280f1f27c5",
   "metadata": {},
   "source": [
    "## 1.Write Python code that prints your name, student number and email address. "
   ]
  },
  {
   "cell_type": "code",
   "execution_count": 208,
   "id": "50f2bd92-d1e1-4163-82a8-73b6263f43e1",
   "metadata": {},
   "outputs": [
    {
     "name": "stdout",
     "output_type": "stream",
     "text": [
      "Name:Maria Preethi\n",
      "Student no.:38\n",
      "Email :preethi070@yahoo.co.in\n"
     ]
    }
   ],
   "source": [
    "print(\"Name:Maria Preethi\") \n",
    "print(\"Student no.:38\")\n",
    "print(\"Email :preethi070@yahoo.co.in\")"
   ]
  },
  {
   "cell_type": "markdown",
   "id": "07b75ce7-1555-4fab-b8f5-511a6c08b728",
   "metadata": {},
   "source": [
    "## 2.Write Python code that prints your name, student number and email address using escape sequences.     "
   ]
  },
  {
   "cell_type": "code",
   "execution_count": 210,
   "id": "e9b7d79b-1388-4fa0-9e2d-575d71f9490b",
   "metadata": {},
   "outputs": [
    {
     "name": "stdout",
     "output_type": "stream",
     "text": [
      "Name:Maria Preethi \n",
      "Student no.:38 \n",
      "Email :preethi070@yahoo.co.in\n"
     ]
    }
   ],
   "source": [
    "print(\"Name:Maria Preethi \\nStudent no.:38 \\nEmail :preethi070@yahoo.co.in\")"
   ]
  },
  {
   "cell_type": "markdown",
   "id": "27fd1e46-df80-40ff-8e4d-82c18af7b9ab",
   "metadata": {},
   "source": [
    "## 3.Write Python code that add, subtract, multiply and divide the two numbers. You can use the two numbers 14 and 7.  "
   ]
  },
  {
   "cell_type": "code",
   "execution_count": 212,
   "id": "17e10c05-3941-4eb5-834a-c0171588a675",
   "metadata": {},
   "outputs": [
    {
     "name": "stdout",
     "output_type": "stream",
     "text": [
      "Sum of no.'s : 21\n",
      "Difference between no.'s : 7\n",
      "Multiplying the no.'s : 98\n",
      "Dividing the no.'s : 2.0\n"
     ]
    }
   ],
   "source": [
    "n1=14\n",
    "n2=7\n",
    "a=n1+n2\n",
    "s=n1-n2\n",
    "m=n1*n2\n",
    "d=n1/n2\n",
    "print(\"Sum of no.'s :\",a)\n",
    "print(\"Difference between no.'s :\",s)\n",
    "print(\"Multiplying the no.'s :\",m)\n",
    "print(\"Dividing the no.'s :\",d)"
   ]
  },
  {
   "cell_type": "markdown",
   "id": "c2a4b137-95d5-4dcb-a9b9-020700d6f6ba",
   "metadata": {},
   "source": [
    "## 4.Write Python code that displays the numbers from 1 to 5 as steps. "
   ]
  },
  {
   "cell_type": "code",
   "execution_count": 1,
   "id": "cf6b9cf1-0aa5-4621-9489-44ff0e3242af",
   "metadata": {},
   "outputs": [
    {
     "name": "stdout",
     "output_type": "stream",
     "text": [
      "1\n",
      "2\n",
      "3\n",
      "4\n",
      "5\n"
     ]
    }
   ],
   "source": [
    "\n",
    "     for a in range(1,6):\n",
    "         print(a)\n",
    "    \n",
    "   "
   ]
  },
  {
   "cell_type": "markdown",
   "id": "7e872374-31b2-43b7-9241-1de3d15dec71",
   "metadata": {},
   "source": [
    "## 5.Write Python code that outputs the following sentence (including the quotation marks and line break) to the screen: \n",
    "An example runs of the program:  \n",
    "\"SDK\" stands for \"Software Development Kit\", whereas \n",
    "\"IDE\" stands for \"Integrated Development Environment\". \n"
   ]
  },
  {
   "cell_type": "code",
   "execution_count": 216,
   "id": "06257c6f-0f06-4c37-a39c-8cb490bb377c",
   "metadata": {},
   "outputs": [
    {
     "name": "stdout",
     "output_type": "stream",
     "text": [
      "\"SDK\" stands for \"Software Development Kit\", whereas\n",
      "\"IDE\" stands for \"Integrated Development Environment\"\n"
     ]
    }
   ],
   "source": [
    "print('\"SDK\" stands for \"Software Development Kit\", whereas\\n\"IDE\" stands for \"Integrated Development Environment\"')"
   ]
  },
  {
   "cell_type": "markdown",
   "id": "fdeb0ccb-1296-42db-a428-be2fc6463319",
   "metadata": {},
   "source": [
    "## 6.Practice and check the output\n",
    "print(\"python is an \\\"awesome\\\" language.\")\n",
    "\n",
    "print(\"python\\n\\t2023\")\n",
    "\n",
    "print('I\\'m from Entri.\\b')\n",
    "\n",
    "print(\"\\65\")\n",
    "\n",
    "print(\"\\x65\")\n",
    "\n",
    "print(\"Entri\", \"2023\", sep=\"\\n\")\n",
    "\n",
    "print(\"Entri\", \"2023\", sep=\"\\b\")\n",
    "\n",
    "print(\"Entri\", \"2023\", sep=\"*\", end=\"\\b\\b\\b\\b\")\n"
   ]
  },
  {
   "cell_type": "code",
   "execution_count": 21,
   "id": "47c430dc-7ac4-4f0e-9ad6-730d756127c7",
   "metadata": {},
   "outputs": [
    {
     "name": "stdout",
     "output_type": "stream",
     "text": [
      "python is an \"awesome\" language.\n",
      "python\n",
      "\t2023\n",
      "I'm from Entri\n",
      "5\n",
      "e\n",
      "Entri\n",
      "2023\n",
      "Entr2023\n",
      "Entri*20"
     ]
    }
   ],
   "source": [
    "print(\"python is an \\\"awesome\\\" language.\")\n",
    "\n",
    "print(\"python\\n\\t2023\")\n",
    "\n",
    "print('I\\'m from Entri.\\b')\n",
    "\n",
    "print(\"\\65\")\n",
    "\n",
    "print(\"\\x65\")\n",
    "\n",
    "print(\"Entri\", \"2023\", sep=\"\\n\")\n",
    "\n",
    "print(\"Entri\", \"2023\", sep=\"\\b\")\n",
    "\n",
    "print(\"Entri\", \"2023\", sep=\"*\", end=\"\\b\\b\\b\\b\")\n"
   ]
  },
  {
   "cell_type": "markdown",
   "id": "5d002d5d-8853-40c6-b31f-d4c46e054678",
   "metadata": {},
   "source": [
    "## 7.Define the variables below. Print the types of each variable.\n",
    "## What is the sum of your variables? (Hint: use a type conversion function.) What datatype is the sum?"
   ]
  },
  {
   "cell_type": "code",
   "execution_count": 220,
   "id": "673254fd-5a8f-470c-951e-8f61cc296f7e",
   "metadata": {},
   "outputs": [
    {
     "name": "stdout",
     "output_type": "stream",
     "text": [
      "Type of variable1 : <class 'int'>\n",
      "Type of variable2 : <class 'float'>\n",
      "Type of variable3 : <class 'str'>\n",
      "Sum of variables is: 6.1\n",
      "Datatype of variable \"Sum\" is <class 'float'>\n"
     ]
    }
   ],
   "source": [
    "variable1=1\n",
    "variable2=2.1\n",
    "variable3=\"3\"\n",
    "print(\"Type of variable1 :\", type(variable1))\n",
    "print(\"Type of variable2 :\", type(variable2))\n",
    "print(\"Type of variable3 :\", type(variable3))\n",
    "Sum=variable1+variable2+int(variable3)\n",
    "print(\"Sum of variables is:\",Sum)\n",
    "print(\"Datatype of variable \\\"Sum\\\" is\",type(Sum))\n"
   ]
  },
  {
   "cell_type": "markdown",
   "id": "af600e13-ce4d-4cf4-a1ea-e8645bdf5895",
   "metadata": {},
   "source": [
    "## 8.Calculate the number of minutes in a year using variables for each unit of time.\n",
    "## Print a statement that describes what your code does also.\n",
    "## Create three variables to store no of days in a year, minute in a hour, hours in a day, then calculate the total minutes in a year and print the values\n",
    "## (hint) total number of minutes in an year =No.of days in an year * Hours in a day * Minutes in an hour\n"
   ]
  },
  {
   "cell_type": "code",
   "execution_count": 5,
   "id": "2b07d049-9bd3-4494-8fc8-972c6fb3ada6",
   "metadata": {},
   "outputs": [
    {
     "name": "stdout",
     "output_type": "stream",
     "text": [
      "The total minutes in a year is calculated by multiplying minutes in hour,hours in day and no of days in a year\n",
      "Total no. of minutes in an year= 525600\n"
     ]
    }
   ],
   "source": [
    "no_of_days_yr=365   # no of days in a year\n",
    "m_in_hour=60       # Minutes in an hour\n",
    "h_in_day=24        # Hour in a day\n",
    "m_in_year=m_in_hour*h_in_day*no_of_days_yr # Calcluates minutes in a year\n",
    "print(\"The total minutes in a year is calculated by multiplying minutes in hour,hours in day and no of days in a year\")\n",
    "print(\"Total no. of minutes in an year=\",m_in_year)"
   ]
  },
  {
   "cell_type": "markdown",
   "id": "323039b8-89b3-48b4-808e-de53d5a061d3",
   "metadata": {},
   "source": [
    "## 9.Write Python code that asks the user to enter his/her name and then output/prints his/her name with a greeting."
   ]
  },
  {
   "cell_type": "code",
   "execution_count": 15,
   "id": "a7a9cefa-44e5-415e-a685-e976a96d2b76",
   "metadata": {},
   "outputs": [
    {
     "name": "stdin",
     "output_type": "stream",
     "text": [
      "Please enter your name: sam\n"
     ]
    },
    {
     "name": "stdout",
     "output_type": "stream",
     "text": [
      "Hi Sam,Welcome to Python Programming!\n"
     ]
    }
   ],
   "source": [
    "Name=input(\"Please enter your name:\")\n",
    "print(\"Hi\",Name.capitalize(),\"\\b,Welcome to Python Programming!\")"
   ]
  },
  {
   "cell_type": "markdown",
   "id": "6dd00f67-5519-48b3-993d-5d520ce3826f",
   "metadata": {},
   "source": [
    "## 10.Name your file: PoundsToDollars.py\n",
    "## Write a program that asks the user to enter an amount in pounds (£) and the program calculates and converts an amount in dollar ($)\n"
   ]
  },
  {
   "cell_type": "code",
   "execution_count": 17,
   "id": "e8bb09db-b189-4255-a319-1c5a6f080932",
   "metadata": {},
   "outputs": [
    {
     "name": "stdin",
     "output_type": "stream",
     "text": [
      "Enter amount in pounds (£): 10\n"
     ]
    },
    {
     "name": "stdout",
     "output_type": "stream",
     "text": [
      "10.0 pounds is equilvalent to 12.2 dollars\n"
     ]
    }
   ],
   "source": [
    "in_pounds=float(input(\"Enter amount in pounds (£):\"))\n",
    "to_dollars=in_pounds*1.22\n",
    "print(in_pounds,\"pounds is equilvalent to\",to_dollars,\"dollars\")\n"
   ]
  },
  {
   "cell_type": "code",
   "execution_count": null,
   "id": "e6c6c6b9-ad78-4667-834d-7766cde0da40",
   "metadata": {},
   "outputs": [],
   "source": []
  }
 ],
 "metadata": {
  "kernelspec": {
   "display_name": "Python [conda env:base] *",
   "language": "python",
   "name": "conda-base-py"
  },
  "language_info": {
   "codemirror_mode": {
    "name": "ipython",
    "version": 3
   },
   "file_extension": ".py",
   "mimetype": "text/x-python",
   "name": "python",
   "nbconvert_exporter": "python",
   "pygments_lexer": "ipython3",
   "version": "3.12.7"
  }
 },
 "nbformat": 4,
 "nbformat_minor": 5
}
